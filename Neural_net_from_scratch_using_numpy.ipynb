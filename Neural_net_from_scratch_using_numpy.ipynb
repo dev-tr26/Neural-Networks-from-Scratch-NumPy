{
  "cells": [
    {
      "cell_type": "code",
      "execution_count": 25,
      "metadata": {
        "id": "Iw8QVZp4T2u7"
      },
      "outputs": [],
      "source": [
        "import numpy as np\n",
        "import pandas as pd\n",
        "from matplotlib import pyplot as plt"
      ]
    },
    {
      "cell_type": "code",
      "execution_count": 26,
      "metadata": {
        "id": "iGRUdYOkT_sO"
      },
      "outputs": [],
      "source": [
        "df = pd.read_csv(r\"C:\\Desktop\\datasets\\digit-recognizer\\train.csv\")"
      ]
    },
    {
      "cell_type": "code",
      "execution_count": 27,
      "metadata": {
        "colab": {
          "base_uri": "https://localhost:8080/",
          "height": 255
        },
        "id": "Mw3QZ8WRT_vS",
        "outputId": "99c70657-23bc-4d43-a7ea-c194e1ad716a"
      },
      "outputs": [
        {
          "data": {
            "text/html": [
              "<div>\n",
              "<style scoped>\n",
              "    .dataframe tbody tr th:only-of-type {\n",
              "        vertical-align: middle;\n",
              "    }\n",
              "\n",
              "    .dataframe tbody tr th {\n",
              "        vertical-align: top;\n",
              "    }\n",
              "\n",
              "    .dataframe thead th {\n",
              "        text-align: right;\n",
              "    }\n",
              "</style>\n",
              "<table border=\"1\" class=\"dataframe\">\n",
              "  <thead>\n",
              "    <tr style=\"text-align: right;\">\n",
              "      <th></th>\n",
              "      <th>label</th>\n",
              "      <th>pixel0</th>\n",
              "      <th>pixel1</th>\n",
              "      <th>pixel2</th>\n",
              "      <th>pixel3</th>\n",
              "      <th>pixel4</th>\n",
              "      <th>pixel5</th>\n",
              "      <th>pixel6</th>\n",
              "      <th>pixel7</th>\n",
              "      <th>pixel8</th>\n",
              "      <th>...</th>\n",
              "      <th>pixel774</th>\n",
              "      <th>pixel775</th>\n",
              "      <th>pixel776</th>\n",
              "      <th>pixel777</th>\n",
              "      <th>pixel778</th>\n",
              "      <th>pixel779</th>\n",
              "      <th>pixel780</th>\n",
              "      <th>pixel781</th>\n",
              "      <th>pixel782</th>\n",
              "      <th>pixel783</th>\n",
              "    </tr>\n",
              "  </thead>\n",
              "  <tbody>\n",
              "    <tr>\n",
              "      <th>0</th>\n",
              "      <td>1</td>\n",
              "      <td>0</td>\n",
              "      <td>0</td>\n",
              "      <td>0</td>\n",
              "      <td>0</td>\n",
              "      <td>0</td>\n",
              "      <td>0</td>\n",
              "      <td>0</td>\n",
              "      <td>0</td>\n",
              "      <td>0</td>\n",
              "      <td>...</td>\n",
              "      <td>0</td>\n",
              "      <td>0</td>\n",
              "      <td>0</td>\n",
              "      <td>0</td>\n",
              "      <td>0</td>\n",
              "      <td>0</td>\n",
              "      <td>0</td>\n",
              "      <td>0</td>\n",
              "      <td>0</td>\n",
              "      <td>0</td>\n",
              "    </tr>\n",
              "    <tr>\n",
              "      <th>1</th>\n",
              "      <td>0</td>\n",
              "      <td>0</td>\n",
              "      <td>0</td>\n",
              "      <td>0</td>\n",
              "      <td>0</td>\n",
              "      <td>0</td>\n",
              "      <td>0</td>\n",
              "      <td>0</td>\n",
              "      <td>0</td>\n",
              "      <td>0</td>\n",
              "      <td>...</td>\n",
              "      <td>0</td>\n",
              "      <td>0</td>\n",
              "      <td>0</td>\n",
              "      <td>0</td>\n",
              "      <td>0</td>\n",
              "      <td>0</td>\n",
              "      <td>0</td>\n",
              "      <td>0</td>\n",
              "      <td>0</td>\n",
              "      <td>0</td>\n",
              "    </tr>\n",
              "    <tr>\n",
              "      <th>2</th>\n",
              "      <td>1</td>\n",
              "      <td>0</td>\n",
              "      <td>0</td>\n",
              "      <td>0</td>\n",
              "      <td>0</td>\n",
              "      <td>0</td>\n",
              "      <td>0</td>\n",
              "      <td>0</td>\n",
              "      <td>0</td>\n",
              "      <td>0</td>\n",
              "      <td>...</td>\n",
              "      <td>0</td>\n",
              "      <td>0</td>\n",
              "      <td>0</td>\n",
              "      <td>0</td>\n",
              "      <td>0</td>\n",
              "      <td>0</td>\n",
              "      <td>0</td>\n",
              "      <td>0</td>\n",
              "      <td>0</td>\n",
              "      <td>0</td>\n",
              "    </tr>\n",
              "    <tr>\n",
              "      <th>3</th>\n",
              "      <td>4</td>\n",
              "      <td>0</td>\n",
              "      <td>0</td>\n",
              "      <td>0</td>\n",
              "      <td>0</td>\n",
              "      <td>0</td>\n",
              "      <td>0</td>\n",
              "      <td>0</td>\n",
              "      <td>0</td>\n",
              "      <td>0</td>\n",
              "      <td>...</td>\n",
              "      <td>0</td>\n",
              "      <td>0</td>\n",
              "      <td>0</td>\n",
              "      <td>0</td>\n",
              "      <td>0</td>\n",
              "      <td>0</td>\n",
              "      <td>0</td>\n",
              "      <td>0</td>\n",
              "      <td>0</td>\n",
              "      <td>0</td>\n",
              "    </tr>\n",
              "    <tr>\n",
              "      <th>4</th>\n",
              "      <td>0</td>\n",
              "      <td>0</td>\n",
              "      <td>0</td>\n",
              "      <td>0</td>\n",
              "      <td>0</td>\n",
              "      <td>0</td>\n",
              "      <td>0</td>\n",
              "      <td>0</td>\n",
              "      <td>0</td>\n",
              "      <td>0</td>\n",
              "      <td>...</td>\n",
              "      <td>0</td>\n",
              "      <td>0</td>\n",
              "      <td>0</td>\n",
              "      <td>0</td>\n",
              "      <td>0</td>\n",
              "      <td>0</td>\n",
              "      <td>0</td>\n",
              "      <td>0</td>\n",
              "      <td>0</td>\n",
              "      <td>0</td>\n",
              "    </tr>\n",
              "  </tbody>\n",
              "</table>\n",
              "<p>5 rows × 785 columns</p>\n",
              "</div>"
            ],
            "text/plain": [
              "   label  pixel0  pixel1  pixel2  pixel3  pixel4  pixel5  pixel6  pixel7  \\\n",
              "0      1       0       0       0       0       0       0       0       0   \n",
              "1      0       0       0       0       0       0       0       0       0   \n",
              "2      1       0       0       0       0       0       0       0       0   \n",
              "3      4       0       0       0       0       0       0       0       0   \n",
              "4      0       0       0       0       0       0       0       0       0   \n",
              "\n",
              "   pixel8  ...  pixel774  pixel775  pixel776  pixel777  pixel778  pixel779  \\\n",
              "0       0  ...         0         0         0         0         0         0   \n",
              "1       0  ...         0         0         0         0         0         0   \n",
              "2       0  ...         0         0         0         0         0         0   \n",
              "3       0  ...         0         0         0         0         0         0   \n",
              "4       0  ...         0         0         0         0         0         0   \n",
              "\n",
              "   pixel780  pixel781  pixel782  pixel783  \n",
              "0         0         0         0         0  \n",
              "1         0         0         0         0  \n",
              "2         0         0         0         0  \n",
              "3         0         0         0         0  \n",
              "4         0         0         0         0  \n",
              "\n",
              "[5 rows x 785 columns]"
            ]
          },
          "execution_count": 27,
          "metadata": {},
          "output_type": "execute_result"
        }
      ],
      "source": [
        "df.head()"
      ]
    },
    {
      "cell_type": "code",
      "execution_count": 28,
      "metadata": {
        "id": "EwwKKA-MT_yC"
      },
      "outputs": [],
      "source": [
        "df = np.array(df)\n",
        "m,n = df.shape        # m = no of rows /examples , n = features + 1 (label col)\n",
        "np.random.shuffle(df)\n",
        "\n",
        "df_test_col = df[0:1000].T   # row to col by transposing the matrix so each col is an example\n",
        "y_row =  df_test_col[0]\n",
        "X_row = df_test_col[1:n]\n",
        "\n",
        "data_train = df[1000:m].T\n",
        "y_train = data_train[0]\n",
        "X_train = data_train[1:n]\n",
        "_,m_train = X_train.shape"
      ]
    },
    {
      "cell_type": "code",
      "execution_count": 29,
      "metadata": {
        "colab": {
          "base_uri": "https://localhost:8080/"
        },
        "id": "tUjomslHT_00",
        "outputId": "02e4fb3d-64ae-41f5-b812-ecd0a25b8284"
      },
      "outputs": [
        {
          "data": {
            "text/plain": [
              "(784,)"
            ]
          },
          "execution_count": 29,
          "metadata": {},
          "output_type": "execute_result"
        }
      ],
      "source": [
        "X_train[:, 0].shape"
      ]
    },
    {
      "cell_type": "code",
      "execution_count": 30,
      "metadata": {
        "colab": {
          "base_uri": "https://localhost:8080/"
        },
        "id": "6uYISU8hT_3S",
        "outputId": "c76f2b2a-b1ab-410a-d013-19b4ddd31a60"
      },
      "outputs": [
        {
          "data": {
            "text/plain": [
              "array([0, 6, 8, ..., 8, 6, 2])"
            ]
          },
          "execution_count": 30,
          "metadata": {},
          "output_type": "execute_result"
        }
      ],
      "source": [
        "y_train"
      ]
    },
    {
      "cell_type": "markdown",
      "metadata": {
        "id": "BkpwfYsyaOq6"
      },
      "source": [
        "## initialising parameters"
      ]
    },
    {
      "cell_type": "code",
      "execution_count": 31,
      "metadata": {
        "id": "SrzQ964YT_5y"
      },
      "outputs": [],
      "source": [
        "def init_params():\n",
        "  w1 = np.random.rand(10,784) - 0.5     # .rand makes values between 0 and 1 so we sub 0.5 to create values b/w -0.5 to 0.5\n",
        "  b1 = np.random.rand(10,1) - 0.5\n",
        "  w2 = np.random.rand(10,10) - 0.5\n",
        "  b2 = np.random.rand(10,1) - 0.5\n",
        "  return w1,b1,w2,b2\n",
        "\n",
        "\n",
        "def ReLU(z):\n",
        "  return np.maximum(z,0)    # go through each ele in z and return 0 if ele is < 0 and return z if ele > 0.\n",
        "\n",
        "\n",
        "# def softmax(z):\n",
        "#   a = np.exp(z) / sum(np.exp(z))\n",
        "#   return a \n",
        "\n",
        "def softmax(z):\n",
        "    z = z - np.max(z, axis=1, keepdims=True)  # Normalize to prevent overflow\n",
        "    return np.exp(z) / np.sum(np.exp(z), axis=1, keepdims=True)  # Sum along rows (axis=1)\n",
        "\n",
        "\n",
        "def forward_prop(w1,b1,w2,b2,X):\n",
        "  z1 = w1.dot(X) + b1\n",
        "  a1 = ReLU(z1)\n",
        "  z2 = w2.dot(a1) + b2\n",
        "  a2 = softmax(z2)\n",
        "  return z1,a1,z2,a2\n",
        "\n",
        "def one_hot_encode(y):\n",
        "  one_hot_y = np.zeros((y.size, y.max()+1))        # y.size = m (num of examples)\n",
        "  one_hot_y[np.arange(y.size), y] = 1\n",
        "  one_hot_y = one_hot_y.T\n",
        "  return one_hot_y\n",
        "\n",
        "\n",
        "def deriv_ReLU(z):     # works coz when booleans converted to num true =1 /false =0\n",
        "  return z > 0         # slope 1\n",
        "\n",
        "def back_prop(z1,a1,z2,a2,w1,w2,X, y):\n",
        "  m = X.shape[1]  # Assuming X's columns represent examples\n",
        "  one_hot_y = one_hot_encode(y)\n",
        "  dz2 = a2 - one_hot_y\n",
        "  dw2 = 1/m * dz2.dot(a1.T)\n",
        "  # db2 = 1 / m *np.sum(dz2, 2)\n",
        "  db2 = 1 / m * np.sum(dz2, axis=1, keepdims=True)  # Summing over rows\n",
        "  dz1 = w2.T.dot(dz2) * deriv_ReLU(z1)\n",
        "  dw1 = 1 / m * dz1.dot(X.T)\n",
        "  # db1 = 1 / m * np.sum(dz1)\n",
        "  db1 = 1 / m * np.sum(dz1, axis=1, keepdims=True)\n",
        "  return dw1,db1,dw2,db2\n",
        "\n",
        "\n",
        "def update_params(w1,b1,w2,b2,dw1,db1,dw2,db2,alpha):\n",
        "  w1 = w1 - alpha*dw1\n",
        "  b1 = b1 - alpha*db1\n",
        "  w2 = w2 - alpha*dw2\n",
        "  b2 = b2 - alpha*db2\n",
        "  return w1,b1,w2,b2\n",
        "\n"
      ]
    },
    {
      "cell_type": "code",
      "execution_count": 32,
      "metadata": {
        "id": "F_bZrM-etb58"
      },
      "outputs": [],
      "source": [
        "def get_predictions(a2):\n",
        "  return np.argmax(a2,0)\n"
      ]
    },
    {
      "cell_type": "code",
      "execution_count": 33,
      "metadata": {
        "id": "A4lMifv1tb09"
      },
      "outputs": [],
      "source": [
        "def get_accuracy(predictions, y):\n",
        "  print(predictions,y)\n",
        "  return np.sum(predictions == y) / y.size"
      ]
    },
    {
      "cell_type": "code",
      "execution_count": 34,
      "metadata": {
        "id": "g4keATH7T_8j"
      },
      "outputs": [],
      "source": [
        "def gradient_descent(X,y,aplha,iterations):\n",
        "  w1,b1,w2,b2 = init_params()\n",
        "  for i in range(iterations):\n",
        "    z1, a1, z2, a2 = forward_prop(w1,b1,w2,b2,X)\n",
        "    dw1,db1,dw2,db2 = back_prop(z1,a1,z2,a2,w1,w2,X,y)\n",
        "    w1,b1,w2,b2 = update_params(w1,b1,w2,b2,dw1,db1,dw2,db2,aplha)\n",
        "    if i % 10 ==0:\n",
        "      print('Iteration: ',i)\n",
        "      print('Accuracy', get_accuracy(get_predictions(a2),y))\n",
        "  return w1,b1,w2,b2"
      ]
    },
    {
      "cell_type": "code",
      "execution_count": 35,
      "metadata": {
        "colab": {
          "base_uri": "https://localhost:8080/",
          "height": 393
        },
        "id": "Bm2qet8-T__C",
        "outputId": "76472b1f-d4ba-4e72-b719-e53dedae2c74"
      },
      "outputs": [
        {
          "name": "stdout",
          "output_type": "stream",
          "text": [
            "Iteration:  0\n",
            "[0 8 5 ... 4 4 9] [0 6 8 ... 8 6 2]\n",
            "Accuracy 0.1152439024390244\n",
            "Iteration:  10\n",
            "[0 0 0 ... 0 0 0] [0 6 8 ... 8 6 2]\n",
            "Accuracy 0.09841463414634147\n",
            "Iteration:  20\n",
            "[0 0 0 ... 0 0 0] [0 6 8 ... 8 6 2]\n",
            "Accuracy 0.09841463414634147\n",
            "Iteration:  30\n",
            "[0 0 0 ... 0 0 0] [0 6 8 ... 8 6 2]\n",
            "Accuracy 0.09841463414634147\n",
            "Iteration:  40\n",
            "[0 0 0 ... 0 0 0] [0 6 8 ... 8 6 2]\n",
            "Accuracy 0.09841463414634147\n",
            "Iteration:  50\n",
            "[0 0 0 ... 0 0 0] [0 6 8 ... 8 6 2]\n",
            "Accuracy 0.09841463414634147\n",
            "Iteration:  60\n",
            "[0 0 0 ... 0 0 0] [0 6 8 ... 8 6 2]\n",
            "Accuracy 0.09841463414634147\n",
            "Iteration:  70\n",
            "[0 0 0 ... 0 0 0] [0 6 8 ... 8 6 2]\n",
            "Accuracy 0.09841463414634147\n",
            "Iteration:  80\n",
            "[0 0 0 ... 0 0 0] [0 6 8 ... 8 6 2]\n",
            "Accuracy 0.09841463414634147\n",
            "Iteration:  90\n",
            "[0 0 0 ... 0 0 0] [0 6 8 ... 8 6 2]\n",
            "Accuracy 0.09841463414634147\n"
          ]
        },
        {
          "name": "stderr",
          "output_type": "stream",
          "text": [
            "C:\\Users\\trang\\AppData\\Local\\Temp\\ipykernel_15692\\3129000540.py:18: RuntimeWarning: invalid value encountered in subtract\n",
            "  z = z - np.max(z, axis=1, keepdims=True)  # Normalize to prevent overflow\n"
          ]
        },
        {
          "name": "stdout",
          "output_type": "stream",
          "text": [
            "Iteration:  100\n",
            "[0 0 0 ... 0 0 0] [0 6 8 ... 8 6 2]\n",
            "Accuracy 0.09841463414634147\n",
            "Iteration:  110\n",
            "[0 0 0 ... 0 0 0] [0 6 8 ... 8 6 2]\n",
            "Accuracy 0.09841463414634147\n",
            "Iteration:  120\n",
            "[0 0 0 ... 0 0 0] [0 6 8 ... 8 6 2]\n",
            "Accuracy 0.09841463414634147\n",
            "Iteration:  130\n",
            "[0 0 0 ... 0 0 0] [0 6 8 ... 8 6 2]\n",
            "Accuracy 0.09841463414634147\n",
            "Iteration:  140\n",
            "[0 0 0 ... 0 0 0] [0 6 8 ... 8 6 2]\n",
            "Accuracy 0.09841463414634147\n",
            "Iteration:  150\n",
            "[0 0 0 ... 0 0 0] [0 6 8 ... 8 6 2]\n",
            "Accuracy 0.09841463414634147\n",
            "Iteration:  160\n",
            "[0 0 0 ... 0 0 0] [0 6 8 ... 8 6 2]\n",
            "Accuracy 0.09841463414634147\n",
            "Iteration:  170\n",
            "[0 0 0 ... 0 0 0] [0 6 8 ... 8 6 2]\n",
            "Accuracy 0.09841463414634147\n",
            "Iteration:  180\n",
            "[0 0 0 ... 0 0 0] [0 6 8 ... 8 6 2]\n",
            "Accuracy 0.09841463414634147\n",
            "Iteration:  190\n",
            "[0 0 0 ... 0 0 0] [0 6 8 ... 8 6 2]\n",
            "Accuracy 0.09841463414634147\n",
            "Iteration:  200\n",
            "[0 0 0 ... 0 0 0] [0 6 8 ... 8 6 2]\n",
            "Accuracy 0.09841463414634147\n",
            "Iteration:  210\n",
            "[0 0 0 ... 0 0 0] [0 6 8 ... 8 6 2]\n",
            "Accuracy 0.09841463414634147\n",
            "Iteration:  220\n",
            "[0 0 0 ... 0 0 0] [0 6 8 ... 8 6 2]\n",
            "Accuracy 0.09841463414634147\n",
            "Iteration:  230\n",
            "[0 0 0 ... 0 0 0] [0 6 8 ... 8 6 2]\n",
            "Accuracy 0.09841463414634147\n",
            "Iteration:  240\n",
            "[0 0 0 ... 0 0 0] [0 6 8 ... 8 6 2]\n",
            "Accuracy 0.09841463414634147\n",
            "Iteration:  250\n",
            "[0 0 0 ... 0 0 0] [0 6 8 ... 8 6 2]\n",
            "Accuracy 0.09841463414634147\n",
            "Iteration:  260\n",
            "[0 0 0 ... 0 0 0] [0 6 8 ... 8 6 2]\n",
            "Accuracy 0.09841463414634147\n",
            "Iteration:  270\n",
            "[0 0 0 ... 0 0 0] [0 6 8 ... 8 6 2]\n",
            "Accuracy 0.09841463414634147\n",
            "Iteration:  280\n",
            "[0 0 0 ... 0 0 0] [0 6 8 ... 8 6 2]\n",
            "Accuracy 0.09841463414634147\n",
            "Iteration:  290\n",
            "[0 0 0 ... 0 0 0] [0 6 8 ... 8 6 2]\n",
            "Accuracy 0.09841463414634147\n",
            "Iteration:  300\n",
            "[0 0 0 ... 0 0 0] [0 6 8 ... 8 6 2]\n",
            "Accuracy 0.09841463414634147\n",
            "Iteration:  310\n",
            "[0 0 0 ... 0 0 0] [0 6 8 ... 8 6 2]\n",
            "Accuracy 0.09841463414634147\n",
            "Iteration:  320\n",
            "[0 0 0 ... 0 0 0] [0 6 8 ... 8 6 2]\n",
            "Accuracy 0.09841463414634147\n",
            "Iteration:  330\n",
            "[0 0 0 ... 0 0 0] [0 6 8 ... 8 6 2]\n",
            "Accuracy 0.09841463414634147\n",
            "Iteration:  340\n",
            "[0 0 0 ... 0 0 0] [0 6 8 ... 8 6 2]\n",
            "Accuracy 0.09841463414634147\n",
            "Iteration:  350\n",
            "[0 0 0 ... 0 0 0] [0 6 8 ... 8 6 2]\n",
            "Accuracy 0.09841463414634147\n",
            "Iteration:  360\n",
            "[0 0 0 ... 0 0 0] [0 6 8 ... 8 6 2]\n",
            "Accuracy 0.09841463414634147\n",
            "Iteration:  370\n",
            "[0 0 0 ... 0 0 0] [0 6 8 ... 8 6 2]\n",
            "Accuracy 0.09841463414634147\n",
            "Iteration:  380\n",
            "[0 0 0 ... 0 0 0] [0 6 8 ... 8 6 2]\n",
            "Accuracy 0.09841463414634147\n",
            "Iteration:  390\n",
            "[0 0 0 ... 0 0 0] [0 6 8 ... 8 6 2]\n",
            "Accuracy 0.09841463414634147\n",
            "Iteration:  400\n",
            "[0 0 0 ... 0 0 0] [0 6 8 ... 8 6 2]\n",
            "Accuracy 0.09841463414634147\n",
            "Iteration:  410\n",
            "[0 0 0 ... 0 0 0] [0 6 8 ... 8 6 2]\n",
            "Accuracy 0.09841463414634147\n",
            "Iteration:  420\n",
            "[0 0 0 ... 0 0 0] [0 6 8 ... 8 6 2]\n",
            "Accuracy 0.09841463414634147\n",
            "Iteration:  430\n",
            "[0 0 0 ... 0 0 0] [0 6 8 ... 8 6 2]\n",
            "Accuracy 0.09841463414634147\n",
            "Iteration:  440\n",
            "[0 0 0 ... 0 0 0] [0 6 8 ... 8 6 2]\n",
            "Accuracy 0.09841463414634147\n",
            "Iteration:  450\n",
            "[0 0 0 ... 0 0 0] [0 6 8 ... 8 6 2]\n",
            "Accuracy 0.09841463414634147\n",
            "Iteration:  460\n",
            "[0 0 0 ... 0 0 0] [0 6 8 ... 8 6 2]\n",
            "Accuracy 0.09841463414634147\n",
            "Iteration:  470\n",
            "[0 0 0 ... 0 0 0] [0 6 8 ... 8 6 2]\n",
            "Accuracy 0.09841463414634147\n",
            "Iteration:  480\n",
            "[0 0 0 ... 0 0 0] [0 6 8 ... 8 6 2]\n",
            "Accuracy 0.09841463414634147\n",
            "Iteration:  490\n",
            "[0 0 0 ... 0 0 0] [0 6 8 ... 8 6 2]\n",
            "Accuracy 0.09841463414634147\n"
          ]
        }
      ],
      "source": [
        "w1,b1,w2,b2 = gradient_descent(X_train,y_train,0.1,500)"
      ]
    },
    {
      "cell_type": "code",
      "execution_count": 39,
      "metadata": {
        "id": "cKn2igdTUABz"
      },
      "outputs": [],
      "source": [
        "def make_prediction(X,w1,b1,w2,b2):\n",
        "    w1,a1,w2,a2 = forward_prop(w1,b1,w2,b2,X)\n",
        "    predictions = get_predictions(a2)\n",
        "    return predictions\n",
        "\n",
        "def get_test_predictions(index, w1, b1, w2, b2):\n",
        "    curr_img = X_train[:,index, None]\n",
        "    predict = make_prediction(X_train[:,index,None], w1,b1,w2,b2)\n",
        "    label = y_train[index]\n",
        "    print(f'prediction : {predict}')\n",
        "    print(f'label : {label}')\n",
        "    \n",
        "    curr_img = curr_img.reshape((28,28)) * 255\n",
        "    plt.gray()\n",
        "    plt.imshow(curr_img, interpolation='nearest')\n",
        "    plt.show()"
      ]
    },
    {
      "cell_type": "code",
      "execution_count": 40,
      "metadata": {},
      "outputs": [
        {
          "name": "stdout",
          "output_type": "stream",
          "text": [
            "prediction : [0]\n",
            "label : 7\n"
          ]
        },
        {
          "data": {
            "image/png": "[encoded data removed]",
            "text/plain": [
              "<Figure size 640x480 with 1 Axes>"
            ]
          },
          "metadata": {},
          "output_type": "display_data"
        }
      ],
      "source": [
        "get_test_predictions(5,w1,b1,w2,b2)"
      ]
    },
    {
      "cell_type": "code",
      "execution_count": 41,
      "metadata": {},
      "outputs": [
        {
          "name": "stdout",
          "output_type": "stream",
          "text": [
            "prediction : [0]\n",
            "label : 8\n"
          ]
        },
        {
          "data": {
            "image/png": "[encoded data removed]",
            "text/plain": [
              "<Figure size 640x480 with 1 Axes>"
            ]
          },
          "metadata": {},
          "output_type": "display_data"
        }
      ],
      "source": [
        "get_test_predictions(3,w1,b1,w2,b2)"
      ]
    },
    {
      "cell_type": "code",
      "execution_count": 42,
      "metadata": {},
      "outputs": [
        {
          "name": "stdout",
          "output_type": "stream",
          "text": [
            "prediction : [0]\n",
            "label : 6\n"
          ]
        },
        {
          "data": {
            "image/png": "[encoded data removed]",
            "text/plain": [
              "<Figure size 640x480 with 1 Axes>"
            ]
          },
          "metadata": {},
          "output_type": "display_data"
        }
      ],
      "source": [
        "get_test_predictions(15,w1,b1,w2,b2)"
      ]
    },
    {
      "cell_type": "code",
      "execution_count": null,
      "metadata": {},
      "outputs": [],
      "source": []
    }
  ],
  "metadata": {
    "colab": {
      "provenance": []
    },
    "kernelspec": {
      "display_name": "Python 3",
      "name": "python3"
    },
    "language_info": {
      "codemirror_mode": {
        "name": "ipython",
        "version": 3
      },
      "file_extension": ".py",
      "mimetype": "text/x-python",
      "name": "python",
      "nbconvert_exporter": "python",
      "pygments_lexer": "ipython3",
      "version": "3.12.7"
    }
  },
  "nbformat": 4,
  "nbformat_minor": 0
}
